{
 "cells": [
  {
   "cell_type": "code",
   "execution_count": null,
   "metadata": {},
   "outputs": [],
   "source": [
    " # 1 GPU on this machine\n",
    "%env SM_NUM_GPUS=1\n",
    "# Where to save the model\n",
    "%env SM_MODEL_DIR=/tmp/model\n",
    "# Where the training data is\n",
    "%env SM_CHANNEL_TRAINING=data\n",
    "# Where the validation data is\n",
    "%env SM_CHANNEL_VALIDATION=data\n",
    "\n",
    "!python train_sagemaker.py --epochs 10"
   ]
  },
  {
   "cell_type": "code",
   "execution_count": null,
   "metadata": {},
   "outputs": [],
   "source": [
    "tf_estimator = TensorFlow(entry_point='mnist_keras_tf.py', \n",
    "                          role=role,\n",
    "                          train_instance_count=1, \n",
    "                          train_instance_type='ml.p3.8xlarge',\n",
    "                          framework_version='1.12', \n",
    "                          py_version='py3',\n",
    "                          script_mode=True\n",
    "                         )"
   ]
  },
  {
   "cell_type": "code",
   "execution_count": null,
   "metadata": {},
   "outputs": [],
   "source": [
    "from sagemaker.tuner import IntegerParameter, CategoricalParameter, ContinuousParameter, HyperparameterTuner\n",
    "\n",
    "hyperparameter_ranges = {\n",
    "    'epochs':        IntegerParameter(10, 100),\n",
    "    'learning-rate': ContinuousParameter(0.001, 0.1, scaling_type='Logarithmic'), \n",
    "    #'batch-size':    IntegerParameter(256, 1024),\n",
    "    'cluster_radius': ContinuousParameter(0.001, 0.8),\n",
    "    'cluster_meanActive':IntegerParameter(2, 100),\n",
    "    'cluster_shift_meanActive':IntegerParameter(50, 500),\n",
    "    'cluster_npoint_thre':IntegerParameter(2, 100)\n",
    "}\n",
    "\n",
    "\n",
    "objective_metric_name = 'AP_Plant'\n",
    "objective_type = 'Maximize'\n",
    "metric_definitions = [{'Name': 'AP_Plant', 'Regex': 'AP_Plant: ([0-9\\\\.]+)'}]\n",
    "\n",
    "tuner = HyperparameterTuner(tf_estimator,\n",
    "                            objective_metric_name,\n",
    "                            hyperparameter_ranges,\n",
    "                            metric_definitions,\n",
    "                            max_jobs=20,\n",
    "                            max_parallel_jobs=2,\n",
    "                            objective_type=objective_type)"
   ]
  },
  {
   "cell_type": "code",
   "execution_count": null,
   "metadata": {},
   "outputs": [],
   "source": [
    " tuner.fit({'training': training_input_path, 'validation': validation_input_path})"
   ]
  }
 ],
 "metadata": {
  "language_info": {
   "name": "python"
  },
  "orig_nbformat": 4
 },
 "nbformat": 4,
 "nbformat_minor": 2
}
