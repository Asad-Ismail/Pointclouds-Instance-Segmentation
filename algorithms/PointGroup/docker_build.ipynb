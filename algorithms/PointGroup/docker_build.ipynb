{
 "cells": [
  {
   "cell_type": "code",
   "execution_count": 127,
   "metadata": {},
   "outputs": [
    {
     "data": {
      "text/plain": [
       "'arn:aws:iam::470086202700:role/service-role/AmazonSageMaker-ExecutionRole-20200917T091404'"
      ]
     },
     "execution_count": 127,
     "metadata": {},
     "output_type": "execute_result"
    }
   ],
   "source": [
    "import sagemaker\n",
    "sess=sagemaker.Session(default_bucket=\"sagemaker-us-east-1-470086202700\")\n",
    "role= sagemaker.get_execution_role()\n",
    "account =sess.boto_session.client('sts').get_caller_identity()['Account']\n",
    "region= sess.boto_session.region_name\n",
    "role"
   ]
  },
  {
   "cell_type": "code",
   "execution_count": 185,
   "metadata": {},
   "outputs": [],
   "source": [
    "# change names of below to project name and image name\n",
    "repo_name=\"dyco3d\"\n",
    "image_tag=repo_name\n",
    "base_job_name=image_tag"
   ]
  },
  {
   "cell_type": "code",
   "execution_count": 186,
   "metadata": {},
   "outputs": [],
   "source": [
    "### Set Enivronment variables"
   ]
  },
  {
   "cell_type": "code",
   "execution_count": 187,
   "metadata": {},
   "outputs": [
    {
     "name": "stdout",
     "output_type": "stream",
     "text": [
      "env: dockerfile=sagemaker-DyCo3D/Docker/Dockerfile\n",
      "env: account=470086202700\n",
      "env: region=us-east-1\n",
      "env: repo_name=dyco3d\n",
      "env: image_tag=dyco3d\n"
     ]
    }
   ],
   "source": [
    "%env dockerfile sagemaker-DyCo3D/Docker/Dockerfile\n",
    "%env account {account}\n",
    "%env region {region}\n",
    "%env repo_name {repo_name}\n",
    "%env image_tag {image_tag}"
   ]
  },
  {
   "cell_type": "code",
   "execution_count": 195,
   "metadata": {},
   "outputs": [
    {
     "name": "stdout",
     "output_type": "stream",
     "text": [
      "#FROM nvidia/cuda:9.0-cudnn7-devel-ubuntu16.04\r\n",
      "#FROM nvidia/cuda:9.2-cudnn7-devel-ubuntu18.04\r\n",
      "FROM nvidia/cuda:10.2-cudnn7-devel-ubuntu18.04\r\n",
      "\r\n",
      "# Install system dependencies\r\n",
      "#ENV DEBIAN_FRONTEND=noninteractive \r\n",
      "RUN apt-get update \r\n",
      "RUN  apt-get install -y wget build-essential git\r\n",
      "RUN ln -s /usr/lib/x86_64-linux-gnu/libmpfr.so.6 /usr/lib/x86_64-linux-gnu/libmpfr.so.4\r\n",
      "\r\n",
      "# Install python dependencies\r\n",
      "ENV PYTHON_VERSION=3.7\r\n",
      "ENV LANG=C.UTF-8 LC_ALL=C.UTF-8\r\n",
      "ENV PATH /opt/conda/bin:$PATH\r\n",
      "\r\n",
      "RUN wget --quiet https://repo.anaconda.com/miniconda/Miniconda3-4.5.12-Linux-x86_64.sh -O ~/miniconda.sh && \\\r\n",
      "    /bin/bash ~/miniconda.sh -b -p /opt/conda && \\\r\n",
      "    rm ~/miniconda.sh && \\\r\n",
      "\tconda install -y -c bioconda google-sparsehash && \\\r\n",
      "\tconda install -y libboost && \\ \r\n",
      "\tconda install -y -c daleydeng gcc-5\r\n",
      "    #conda install -y scipy pillow gunicorn==19.9.0 && \\\r\n",
      "    #conda install -y gevent flask matplotlib && \\\r\n",
      "    #conda install -y -c conda-forge opencv\r\n",
      "\r\n",
      "RUN conda install -y scipy\r\n",
      "\r\n",
      "ENV PYTHONUNBUFFERED=TRUE\r\n",
      "ENV PYTHONDONTWRITEBYTECODE=TRUE\r\n",
      "ENV PATH=\"/opt/program:${PATH}\"\r\n",
      "\r\n",
      "RUN pip install torch==1.1 cmake>=3.13.2 plyfile tensorboardX pyyaml\r\n",
      "\r\n",
      "RUN apt-get install -y libboost-dev\r\n",
      "\r\n",
      "COPY lib /opt/program/lib\r\n",
      "\r\n",
      "WORKDIR /opt/program/lib/spconv\r\n",
      "RUN rm -rf build\r\n",
      "RUN python setup.py bdist_wheel\r\n",
      "WORKDIR /opt/program/lib/spconv/dist\r\n",
      "RUN pip install *.whl\r\n",
      "\r\n",
      "#RUN conda install -y -c bioconda google-sparsehash \r\n",
      "RUN apt-get install -y libsparsehash-dev\r\n",
      "WORKDIR  /opt/program/lib/pointgroup_ops\r\n",
      "RUN rm -rf build\r\n",
      "RUN python setup.py develop\r\n",
      "\r\n",
      "#RUN chmod +x /opt/program/train\r\n",
      "#RUN chmod +x /opt/program/serve\r\n",
      "\r\n",
      "COPY sagemaker-DyCo3D/scripts /opt/program\r\n",
      "COPY DyCo3D/ /opt/program\r\n",
      "\r\n",
      "WORKDIR /opt/program\r\n",
      "\r\n",
      "\r\n",
      "\r\n"
     ]
    }
   ],
   "source": [
    "!cat $dockerfile"
   ]
  },
  {
   "cell_type": "code",
   "execution_count": 196,
   "metadata": {},
   "outputs": [
    {
     "name": "stdout",
     "output_type": "stream",
     "text": [
      "Sending build context to Docker daemon  390.6MB\n",
      "Step 1/27 : FROM nvidia/cuda:10.2-cudnn7-devel-ubuntu18.04\n",
      " ---> 301c8f9f1c90\n",
      "Step 2/27 : RUN apt-get update\n",
      " ---> Using cache\n",
      " ---> 2d0c35950295\n",
      "Step 3/27 : RUN  apt-get install -y wget build-essential git\n",
      " ---> Using cache\n",
      " ---> 45a8faa3cc10\n",
      "Step 4/27 : RUN ln -s /usr/lib/x86_64-linux-gnu/libmpfr.so.6 /usr/lib/x86_64-linux-gnu/libmpfr.so.4\n",
      " ---> Using cache\n",
      " ---> 1892ea96bd01\n",
      "Step 5/27 : ENV PYTHON_VERSION=3.7\n",
      " ---> Using cache\n",
      " ---> e5a35dc2f0d3\n",
      "Step 6/27 : ENV LANG=C.UTF-8 LC_ALL=C.UTF-8\n",
      " ---> Using cache\n",
      " ---> 199ff84be113\n",
      "Step 7/27 : ENV PATH /opt/conda/bin:$PATH\n",
      " ---> Using cache\n",
      " ---> 2b7d44910684\n",
      "Step 8/27 : RUN wget --quiet https://repo.anaconda.com/miniconda/Miniconda3-4.5.12-Linux-x86_64.sh -O ~/miniconda.sh &&     /bin/bash ~/miniconda.sh -b -p /opt/conda &&     rm ~/miniconda.sh && \tconda install -y -c bioconda google-sparsehash && \tconda install -y libboost && \tconda install -y -c daleydeng gcc-5\n",
      " ---> Using cache\n",
      " ---> 0bfa123a04ca\n",
      "Step 9/27 : RUN conda install -y scipy\n",
      " ---> Using cache\n",
      " ---> 401fb494865c\n",
      "Step 10/27 : ENV PYTHONUNBUFFERED=TRUE\n",
      " ---> Using cache\n",
      " ---> 947c8f43bc19\n",
      "Step 11/27 : ENV PYTHONDONTWRITEBYTECODE=TRUE\n",
      " ---> Using cache\n",
      " ---> 60efbe34cfee\n",
      "Step 12/27 : ENV PATH=\"/opt/program:${PATH}\"\n",
      " ---> Using cache\n",
      " ---> 4ee97d45e4cd\n",
      "Step 13/27 : RUN pip install torch==1.1 cmake>=3.13.2 plyfile tensorboardX pyyaml\n",
      " ---> Using cache\n",
      " ---> 1bf66495ea7f\n",
      "Step 14/27 : RUN apt-get install -y libboost-dev\n",
      " ---> Using cache\n",
      " ---> a2901f4e049a\n",
      "Step 15/27 : COPY lib /opt/program/lib\n",
      " ---> Using cache\n",
      " ---> e8e42c911a4f\n",
      "Step 16/27 : WORKDIR /opt/program/lib/spconv\n",
      " ---> Using cache\n",
      " ---> dcad8110ff86\n",
      "Step 17/27 : RUN rm -rf build\n",
      " ---> Using cache\n",
      " ---> 6dba406f9e57\n",
      "Step 18/27 : RUN python setup.py bdist_wheel\n",
      " ---> Using cache\n",
      " ---> 475e74ef81e8\n",
      "Step 19/27 : WORKDIR /opt/program/lib/spconv/dist\n",
      " ---> Using cache\n",
      " ---> f41ed43d6a69\n",
      "Step 20/27 : RUN pip install *.whl\n",
      " ---> Using cache\n",
      " ---> be8b39d75d87\n",
      "Step 21/27 : RUN apt-get install -y libsparsehash-dev\n",
      " ---> Using cache\n",
      " ---> 2c10a7506044\n",
      "Step 22/27 : WORKDIR  /opt/program/lib/pointgroup_ops\n",
      " ---> Using cache\n",
      " ---> 55422852e53f\n",
      "Step 23/27 : RUN rm -rf build\n",
      " ---> Using cache\n",
      " ---> bd3bedcfa978\n",
      "Step 24/27 : RUN python setup.py develop\n",
      " ---> Using cache\n",
      " ---> fdc4516ffaff\n",
      "Step 25/27 : COPY sagemaker-DyCo3D/scripts /opt/program\n",
      " ---> 7ab978f6ace8\n",
      "Step 26/27 : COPY DyCo3D/ /opt/program\n",
      " ---> adfd59ac1451\n",
      "Step 27/27 : WORKDIR /opt/program\n",
      " ---> Running in 2a8205336a5d\n",
      "Removing intermediate container 2a8205336a5d\n",
      " ---> 8c3bd5031c53\n",
      "Successfully built 8c3bd5031c53\n",
      "Successfully tagged dyco3d:latest\n"
     ]
    }
   ],
   "source": [
    "# Build Docker\n",
    "!docker build -t $image_tag -f $dockerfile ."
   ]
  },
  {
   "cell_type": "code",
   "execution_count": 197,
   "metadata": {},
   "outputs": [
    {
     "name": "stdout",
     "output_type": "stream",
     "text": [
      "REPOSITORY                                            TAG                             IMAGE ID       CREATED                  SIZE\r\n",
      "dyco3d                                                latest                          8c3bd5031c53   Less than a second ago   9.06GB\r\n",
      "470086202700.dkr.ecr.us-east-1.amazonaws.com/dyco3d   latest                          bbb6b72f01ac   21 minutes ago           9.06GB\r\n",
      "470086202700.dkr.ecr.us-east-1.amazonaws.com/dyco3d   <none>                          0c6e824d06a6   5 days ago               9.06GB\r\n",
      "470086202700.dkr.ecr.us-east-1.amazonaws.com/dyco3d   <none>                          af75e93c62eb   5 days ago               9.06GB\r\n",
      "470086202700.dkr.ecr.us-east-1.amazonaws.com/dyco3d   <none>                          04de36a4ab8a   5 days ago               9.06GB\r\n",
      "470086202700.dkr.ecr.us-east-1.amazonaws.com/dyco3d   <none>                          5a3e4db56081   5 days ago               9.06GB\r\n",
      "470086202700.dkr.ecr.us-east-1.amazonaws.com/dyco3d   <none>                          96a50607ed0d   5 days ago               9.06GB\r\n",
      "470086202700.dkr.ecr.us-east-1.amazonaws.com/dyco3d   <none>                          4eb93cb1ea4a   5 days ago               9.06GB\r\n",
      "470086202700.dkr.ecr.us-east-1.amazonaws.com/dyco3d   <none>                          06504ad53220   5 days ago               9.06GB\r\n",
      "470086202700.dkr.ecr.us-east-1.amazonaws.com/dyco3d   <none>                          5e138c5773a2   5 days ago               9.06GB\r\n",
      "470086202700.dkr.ecr.us-east-1.amazonaws.com/dyco3d   <none>                          479ea609ab70   5 days ago               9.06GB\r\n",
      "<none>                                                <none>                          d1e24ecbc91c   5 days ago               9.73GB\r\n",
      "nvidia/cuda                                           10.2-cudnn7-devel-ubuntu18.04   301c8f9f1c90   3 months ago             3.96GB\r\n"
     ]
    }
   ],
   "source": [
    " !docker images"
   ]
  },
  {
   "cell_type": "code",
   "execution_count": 198,
   "metadata": {},
   "outputs": [],
   "source": [
    "!docker tag $image_tag  $account.dkr.ecr.$region.amazonaws.com/$repo_name:latest"
   ]
  },
  {
   "cell_type": "code",
   "execution_count": 199,
   "metadata": {},
   "outputs": [],
   "source": [
    "## Below cells sets up enironment variables build dokcer image and push to ECR If the image is already in ECR skip these steps"
   ]
  },
  {
   "cell_type": "code",
   "execution_count": 200,
   "metadata": {},
   "outputs": [
    {
     "name": "stdout",
     "output_type": "stream",
     "text": [
      "Login Succeeded\n"
     ]
    },
    {
     "name": "stderr",
     "output_type": "stream",
     "text": [
      "WARNING! Using --password via the CLI is insecure. Use --password-stdin.\n",
      "WARNING! Your password will be stored unencrypted in /home/ec2-user/.docker/config.json.\n",
      "Configure a credential helper to remove this warning. See\n",
      "https://docs.docker.com/engine/reference/commandline/login/#credentials-store\n",
      "\n"
     ]
    }
   ],
   "source": [
    "%%sh\n",
    "aws ecr describe-repositories --repository-names $repo_name > /dev/null 2>&1\n",
    "if [ $? -ne 0 ]\n",
    "then\n",
    "    aws ecr create-repository --repository-name $repo_name > /dev/null\n",
    "fi\n",
    "\n",
    "$(aws ecr get-login --region $region --no-include-email)"
   ]
  },
  {
   "cell_type": "code",
   "execution_count": 201,
   "metadata": {},
   "outputs": [
    {
     "name": "stdout",
     "output_type": "stream",
     "text": [
      "The push refers to repository [470086202700.dkr.ecr.us-east-1.amazonaws.com/dyco3d]\n",
      "\n",
      "\u001b[1B8d2e7d88: Preparing \n",
      "\u001b[1Bc82a5f19: Preparing \n",
      "\u001b[1B1fd91636: Preparing \n",
      "\u001b[1Ba02348d5: Preparing \n",
      "\u001b[1Bcc24ce8b: Preparing \n",
      "\u001b[1B8ebd2af2: Preparing \n",
      "\u001b[1Bf36ba3b1: Preparing \n",
      "\u001b[1B7702791b: Preparing \n",
      "\u001b[1B3a0bc4ea: Preparing \n",
      "\u001b[1Bd3fdb5ae: Preparing \n",
      "\u001b[1B4d008330: Preparing \n",
      "\u001b[1B83d94027: Preparing \n",
      "\u001b[1Baad62914: Waiting g \n",
      "\u001b[1Bde2a7278: Preparing \n",
      "\u001b[2Bde2a7278: Waiting g \n",
      "\u001b[1B52f0cf56: Preparing \n",
      "\u001b[1B56eb5bc2: Preparing \n",
      "\u001b[1B4493533f: Preparing \n",
      "\u001b[1Bdd550fb3: Preparing \n",
      "\u001b[1B2e9f2712: Preparing \n",
      "\u001b[1Bcfab2a57: Preparing \n",
      "\u001b[1B54cbc197: Waiting g \n",
      "\u001b[1B6a5f5aba: Preparing \n",
      "\u001b[1Bd64dc157: Preparing \n",
      "\u001b[1B1313d984: Preparing \n",
      "\u001b[26Bd2e7d88: Pushed   98.14MB/98.09MB1A\u001b[2K\u001b[25A\u001b[2K\u001b[25A\u001b[2K\u001b[14A\u001b[2K\u001b[12A\u001b[2K\u001b[26A\u001b[2K\u001b[7A\u001b[2K\u001b[26A\u001b[2K\u001b[25A\u001b[2K\u001b[26A\u001b[2K\u001b[26A\u001b[2K\u001b[26A\u001b[2K\u001b[26A\u001b[2K\u001b[26A\u001b[2K\u001b[26A\u001b[2K\u001b[26A\u001b[2K\u001b[26A\u001b[2K\u001b[26A\u001b[2K\u001b[26A\u001b[2K\u001b[26A\u001b[2K\u001b[26A\u001b[2K\u001b[26A\u001b[2K\u001b[26A\u001b[2K\u001b[26A\u001b[2K\u001b[26A\u001b[2K\u001b[26A\u001b[2K\u001b[26A\u001b[2K\u001b[26A\u001b[2K\u001b[26A\u001b[2K\u001b[26A\u001b[2K\u001b[26A\u001b[2K\u001b[26A\u001b[2K\u001b[26A\u001b[2K\u001b[26A\u001b[2K\u001b[26A\u001b[2K\u001b[26A\u001b[2K\u001b[26A\u001b[2K\u001b[26A\u001b[2K\u001b[26A\u001b[2K\u001b[26A\u001b[2K\u001b[26A\u001b[2Klatest: digest: sha256:d5d31fcbc0bca6340e89ca0aba0bd929067cad94c04708558d558d8ccb60ba7d size: 5797\n"
     ]
    }
   ],
   "source": [
    " !docker push $account.dkr.ecr.$region.amazonaws.com/$repo_name:latest"
   ]
  },
  {
   "cell_type": "code",
   "execution_count": null,
   "metadata": {},
   "outputs": [],
   "source": []
  },
  {
   "cell_type": "code",
   "execution_count": null,
   "metadata": {},
   "outputs": [],
   "source": []
  }
 ],
 "metadata": {
  "kernelspec": {
   "display_name": "conda_python3",
   "language": "python",
   "name": "conda_python3"
  },
  "language_info": {
   "codemirror_mode": {
    "name": "ipython",
    "version": 3
   },
   "file_extension": ".py",
   "mimetype": "text/x-python",
   "name": "python",
   "nbconvert_exporter": "python",
   "pygments_lexer": "ipython3",
   "version": "3.6.13"
  }
 },
 "nbformat": 4,
 "nbformat_minor": 2
}
