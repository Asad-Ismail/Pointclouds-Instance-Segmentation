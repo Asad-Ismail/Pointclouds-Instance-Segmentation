{
 "cells": [
  {
   "cell_type": "code",
   "execution_count": null,
   "metadata": {},
   "outputs": [],
   "source": [
    "import sagemaker\n",
    "sess=sagemaker.Session(default_bucket=\"sagemaker-us-east-1-470086202700\")\n",
    "role= sagemaker.get_execution_role()\n",
    "account =sess.boto_session.client('sts').get_caller_identity()['Account']\n",
    "region= sess.boto_session.region_name"
   ]
  },
  {
   "cell_type": "code",
   "execution_count": null,
   "metadata": {},
   "outputs": [],
   "source": [
    "#Name of repo\n",
    "repo_name=\"pepp-detectron2\"\n",
    "base_job_name=\"pepp-detectron2\"\n",
    "train_input_path=\"s3://sagemaker-us-east-1-470086202700/pepper-segmentation-s-dataset/training\"\n",
    "validation_input_path=\"s3://sagemaker-us-east-1-470086202700/pepper-segmentation-s-dataset/validation\""
   ]
  },
  {
   "cell_type": "code",
   "execution_count": null,
   "metadata": {},
   "outputs": [],
   "source": [
    "image_name  = '{}.dkr.ecr.{}.amazonaws.com/{}:latest'.format(account, region, repo_name)\n",
    "output_path=\"s3://sagemaker-us-east-1-470086202700/pepper-segmentation-s-dataset/output\""
   ]
  },
  {
   "cell_type": "code",
   "execution_count": null,
   "metadata": {},
   "outputs": [],
   "source": [
    "train_instance_type =\"ml.p3.8xlarge\""
   ]
  },
  {
   "cell_type": "code",
   "execution_count": null,
   "metadata": {},
   "outputs": [],
   "source": [
    "estimator = sagemaker.estimator.Estimator(\n",
    "                       image_uri=image_name,\n",
    "                       base_job_name=base_job_name,\n",
    "                       role=role, \n",
    "                       instance_count=1, \n",
    "                       instance_type=train_instance_type,\n",
    "                       output_path=output_path,\n",
    "                       sagemaker_session=sess,\n",
    "                       hyperparameters={\n",
    "                              'epochs': 20,\n",
    "                              'batch-size': 130,\n",
    "                              'lr': 0.01}\n",
    "                        )"
   ]
  },
  {
   "cell_type": "markdown",
   "metadata": {},
   "source": [
    "## Start Training"
   ]
  },
  {
   "cell_type": "code",
   "execution_count": null,
   "metadata": {},
   "outputs": [],
   "source": [
    "estimator.fit({'training': train_input_path, 'validation': validation_input_path})"
   ]
  }
 ],
 "metadata": {
  "language_info": {
   "name": "python"
  },
  "orig_nbformat": 4
 },
 "nbformat": 4,
 "nbformat_minor": 2
}
