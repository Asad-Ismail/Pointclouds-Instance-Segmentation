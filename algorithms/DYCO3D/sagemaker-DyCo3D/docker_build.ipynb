{
 "cells": [
  {
   "cell_type": "code",
   "execution_count": null,
   "metadata": {},
   "outputs": [],
   "source": [
    "import sagemaker\n",
    "sess=sagemaker.Session(default_bucket=\"sagemaker-us-east-1-470086202700\")\n",
    "role= sagemaker.get_execution_role()\n",
    "account =sess.boto_session.client('sts').get_caller_identity()['Account']\n",
    "region= sess.boto_session.region_name"
   ]
  },
  {
   "cell_type": "code",
   "execution_count": null,
   "metadata": {},
   "outputs": [],
   "source": [
    "# change names of below to project name and image name\n",
    "repo_name=\"dyco3d\"\n",
    "image_tag=repo_name\n",
    "base_job_name=image_tag"
   ]
  },
  {
   "cell_type": "code",
   "execution_count": null,
   "metadata": {},
   "outputs": [],
   "source": [
    "### Set Enivronment variables"
   ]
  },
  {
   "cell_type": "code",
   "execution_count": null,
   "metadata": {},
   "outputs": [],
   "source": [
    "%env dockerfile Dockerfile\n",
    "%env account {account}\n",
    "%env region {region}\n",
    "%env repo_name {repo_name}\n",
    "%env image_tag {image_tag}"
   ]
  },
  {
   "cell_type": "code",
   "execution_count": null,
   "metadata": {},
   "outputs": [],
   "source": [
    "!cat Dockerfile"
   ]
  },
  {
   "cell_type": "code",
   "execution_count": null,
   "metadata": {},
   "outputs": [],
   "source": [
    "# Build Docker\n",
    "!docker build -t $image_tag -f $dockerfile ."
   ]
  },
  {
   "cell_type": "code",
   "execution_count": null,
   "metadata": {},
   "outputs": [],
   "source": [
    " !docker images"
   ]
  },
  {
   "cell_type": "code",
   "execution_count": null,
   "metadata": {},
   "outputs": [],
   "source": [
    "## Below cells sets up enironment variables build dokcer image and push to ECR If the image is already in ECR skip these steps"
   ]
  },
  {
   "cell_type": "code",
   "execution_count": null,
   "metadata": {},
   "outputs": [],
   "source": [
    "%%sh\n",
    "aws ecr describe-repositories --repository-names $repo_name > /dev/null 2>&1\n",
    "if [ $? -ne 0 ]\n",
    "then\n",
    "    aws ecr create-repository --repository-name $repo_name > /dev/null\n",
    "fi\n",
    "\n",
    "$(aws ecr get-login --region $region --no-include-email)"
   ]
  },
  {
   "cell_type": "code",
   "execution_count": null,
   "metadata": {},
   "outputs": [],
   "source": [
    " !docker push $account.dkr.ecr.$region.amazonaws.com/$repo_name:latest"
   ]
  }
 ],
 "metadata": {
  "language_info": {
   "name": "python"
  },
  "orig_nbformat": 4
 },
 "nbformat": 4,
 "nbformat_minor": 2
}
